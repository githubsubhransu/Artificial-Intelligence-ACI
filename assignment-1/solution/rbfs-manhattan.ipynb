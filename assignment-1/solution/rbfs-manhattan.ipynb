{
 "cells": [
  {
   "cell_type": "markdown",
   "metadata": {
    "id": "MzZ4dJQYF7sH"
   },
   "source": [
    "# Artificial and Computational Intelligence Assignment 1"
   ]
  },
  {
   "cell_type": "markdown",
   "metadata": {
    "id": "Fxb1aE9zF7sK"
   },
   "source": [
    "## Problem solving by Uninformed & Informed Search"
   ]
  },
  {
   "cell_type": "markdown",
   "metadata": {
    "id": "h35jIBbCF7sK"
   },
   "source": [
    "List only the BITS (Name) of active contributors in this assignment:\n",
    "1. ___________________\n",
    "2. __________________\n",
    "3. ____________________\n",
    "4. ___________________\n",
    "5. ___________________"
   ]
  },
  {
   "cell_type": "markdown",
   "metadata": {
    "id": "pt5ygv_zF7sL"
   },
   "source": [
    "Things to follow\n",
    "1.\tUse appropriate data structures to represent the graph and the path using python libraries\n",
    "2.\tProvide proper documentation\n",
    "3.\tFind the path and print it"
   ]
  },
  {
   "cell_type": "code",
   "execution_count": 3,
   "metadata": {
    "id": "wZfop5ElF7sL"
   },
   "outputs": [],
   "source": [
    "#Coding begins here"
   ]
  },
  {
   "cell_type": "markdown",
   "metadata": {
    "id": "IL0QDMy3F7sL"
   },
   "source": [
    "### 1.\tDefine the environment in the following block"
   ]
  },
  {
   "cell_type": "markdown",
   "metadata": {
    "id": "RYwJPNLIF7sM"
   },
   "source": [
    "List the PEAS decription of the problem here in this markdown block"
   ]
  },
  {
   "cell_type": "markdown",
   "metadata": {
    "id": "XJ3cHp1IF7sM"
   },
   "source": [
    "Design the agent as PSA Agent(Problem Solving Agent)\n",
    "Clear Initial data structures to define the graph and variable declarations is expected\n",
    "IMPORTATANT: Write distinct code block as below"
   ]
  },
  {
   "cell_type": "code",
   "execution_count": 4,
   "metadata": {
    "id": "osp61RsLF7sN"
   },
   "outputs": [],
   "source": [
    "#Code Block : Set Initial State (Must handle dynamic inputs)\n",
    "\n",
    "import heapq\n",
    "\n",
    "def set_initial_state():\n",
    "    # This function sets up the grid. 'O' means open path, 'B' means building, 'R' means roadblock. Here start and end positions are not\n",
    "    # considered as they are the part of dynamic input section.\n",
    "    city_grid = [\n",
    "        ['O', 'O', 'R', 'R', 'O', 'O'],\n",
    "        ['B', 'O', 'R', 'O', 'O', 'O'],\n",
    "        ['O', 'O', 'O', 'O', 'R', 'O'],\n",
    "        ['B', 'O', 'R', 'O', 'O', 'B'],\n",
    "        ['O', 'O', 'O', 'O', 'B', 'O'],\n",
    "        ['O', 'B', 'O', 'R', 'O', 'O']\n",
    "    ]\n",
    "    return city_grid"
   ]
  },
  {
   "cell_type": "code",
   "execution_count": 5,
   "metadata": {
    "id": "XODwoWZ0F7sO"
   },
   "outputs": [],
   "source": [
    "#Code Block : Set the matrix for transition & cost (as relevant for the given problem)\n",
    "\n",
    "def heuristic(a, b):\n",
    "    return abs(a[0] - b[0]) + abs(a[1] - b[1])\n",
    "\n",
    "def calculate_penalty(city_grid, position):\n",
    "    x, y = position\n",
    "    penalty = 0\n",
    "    \n",
    "    adjacent_offsets = [(-1, 0), (1, 0), (0, -1), (0, 1)]\n",
    "    \n",
    "    for dx, dy in adjacent_offsets:\n",
    "        nx, ny = x + dx, y + dy\n",
    "        if 0 <= nx < len(city_grid) and 0 <= ny < len(city_grid[0]):\n",
    "            if city_grid[nx][ny] == 'B':\n",
    "                penalty += 5\n",
    "            elif city_grid[nx][ny] == 'R':\n",
    "                penalty -= 3\n",
    "    \n",
    "    return penalty"
   ]
  },
  {
   "cell_type": "code",
   "execution_count": 6,
   "metadata": {
    "id": "ro24Gaj7F7sO"
   },
   "outputs": [],
   "source": [
    "#Code Block : Write function to design the Transition Model/Successor function. Ideally this would be called while search algorithms are implemented\n",
    "\n",
    "def get_neighbors(city_grid, current_position, g, goal):\n",
    "    directions = [(0, 1), (1, 0), (0, -1), (-1, 0), (1, 1), (-1, -1), (-1, 1), (1, -1)]\n",
    "    neighbors = []\n",
    "    \n",
    "    for direction in directions:\n",
    "        new_position = (current_position[0] + direction[0], current_position[1] + direction[1])\n",
    "        if 0 <= new_position[0] < len(city_grid) and 0 <= new_position[1] < len(city_grid[0]):\n",
    "            if city_grid[new_position[0]][new_position[1]] != 'B' and city_grid[new_position[0]][new_position[1]] != 'R':\n",
    "                g_cost = g + 1\n",
    "                h_cost = heuristic(new_position, goal)\n",
    "                \n",
    "                if abs(direction[0]) + abs(direction[1]) == 2:\n",
    "                    g_cost += 3  # Diagonal movement penalty\n",
    "                \n",
    "                penalty = calculate_penalty(city_grid, new_position)\n",
    "                h_cost += penalty\n",
    "                \n",
    "                neighbors.append((new_position, g_cost, h_cost))\n",
    "    \n",
    "    return neighbors\n"
   ]
  },
  {
   "cell_type": "code",
   "execution_count": 7,
   "metadata": {
    "id": "HIVPhrRWF7sO"
   },
   "outputs": [],
   "source": [
    "#Code block : Write fucntion to handle goal test (Must handle dynamic inputs). Ideally this would be called while search algorithms are implemented\n",
    "\n",
    "def is_goal_state(current_position, goal):\n",
    "    return current_position == goal"
   ]
  },
  {
   "cell_type": "markdown",
   "metadata": {
    "id": "Z4QwDeX5F7sO"
   },
   "source": [
    "### 2.\tDefinition of Algorithm 1 (Mention the Name of the algorithm here)"
   ]
  },
  {
   "cell_type": "code",
   "execution_count": 8,
   "metadata": {
    "id": "zD_EPCHWF7sO"
   },
   "outputs": [],
   "source": [
    "#Code Block : Function for algorithm 1 implementation\n",
    "\n",
    "# RBFS Algorithm Implementation\n",
    "\n",
    "def rbfs(city_grid, start, goal):\n",
    "    open_list = [(heuristic(start, goal), 0, start, [])]  # (f, g, position, path)\n",
    "    while open_list:\n",
    "        f, g, current_position, path = heapq.heappop(open_list)\n",
    "        \n",
    "        path = path + [current_position]\n",
    "        \n",
    "        if is_goal_state(current_position, goal):\n",
    "            return path\n",
    "        \n",
    "        neighbors = get_neighbors(city_grid, current_position, g, goal)\n",
    "        for neighbor_position, neighbor_g, neighbor_h in neighbors:\n",
    "            heapq.heappush(open_list, (neighbor_g + neighbor_h, neighbor_g, neighbor_position, path))\n",
    "    \n",
    "    return None  # No path found\n"
   ]
  },
  {
   "cell_type": "markdown",
   "metadata": {
    "id": "KnbdDl6HF7sO"
   },
   "source": [
    "### 3.\tDefinition of Algorithm 2 (Mention the Name of the algorithm here)"
   ]
  },
  {
   "cell_type": "code",
   "execution_count": 9,
   "metadata": {
    "id": "3HYh7-eJF7sP"
   },
   "outputs": [],
   "source": [
    "#Code Block : Function for algorithm 2 implementation"
   ]
  },
  {
   "cell_type": "markdown",
   "metadata": {
    "id": "LEV2XHccF7sP"
   },
   "source": [
    "### DYNAMIC INPUT"
   ]
  },
  {
   "cell_type": "markdown",
   "metadata": {
    "id": "CylYRo_DF7sP"
   },
   "source": [
    "IMPORTANT : Dynamic Input must be got in this section. Display the possible states to choose from:\n",
    "This is applicable for all the relevent problems as mentioned in the question."
   ]
  },
  {
   "cell_type": "code",
   "execution_count": 10,
   "metadata": {
    "id": "Q5t1Lc-wF7sP"
   },
   "outputs": [],
   "source": [
    "#Code Block : Function & call to get inputs (start/end state)\n",
    "\n",
    "def get_dynamic_inputs():\n",
    "    start = (0, 0)\n",
    "    goal = (5, 5)\n",
    "    return start, goal"
   ]
  },
  {
   "cell_type": "markdown",
   "metadata": {
    "id": "xsfOP81lF7sP"
   },
   "source": [
    "### 4.\tCalling the search algorithms\n",
    "(For bidirectional search in below sections first part can be used as per Hint provided. Under second section other combinations as per Hint or your choice of 2 algorithms can be called .As an analyst suggest suitable approximation in the comparitive analysis section)"
   ]
  },
  {
   "cell_type": "code",
   "execution_count": 11,
   "metadata": {
    "id": "Og5zI9thF7sP"
   },
   "outputs": [
    {
     "name": "stdout",
     "output_type": "stream",
     "text": [
      "Optimum Path: [(0, 0), (0, 1), (1, 1), (2, 1), (2, 2), (2, 3), (3, 3), (4, 3), (5, 4), (5, 5)]\n",
      "Total Cost: 9\n"
     ]
    }
   ],
   "source": [
    "#Invoke algorithm 1 (Should Print the solution, path, cost etc., (As mentioned in the problem))\n",
    "\n",
    "def call_search_algo():\n",
    "    city_grid = set_initial_state()\n",
    "    start, goal = get_dynamic_inputs()\n",
    "    \n",
    "    path = rbfs(city_grid, start, goal)\n",
    "    \n",
    "    if path:\n",
    "        print(\"Optimum Path:\", path)\n",
    "        print(\"Total Cost:\", len(path) - 1)\n",
    "    else:\n",
    "        print(\"No path found\")\n",
    "\n",
    "call_search_algo()\n"
   ]
  },
  {
   "cell_type": "code",
   "execution_count": 12,
   "metadata": {
    "id": "u3MJeA6eF7sP"
   },
   "outputs": [],
   "source": [
    "#Invoke algorithm 2 (Should Print the solution, path, cost etc., (As mentioned in the problem))"
   ]
  },
  {
   "cell_type": "markdown",
   "metadata": {
    "id": "TOU3Rem6F7sQ"
   },
   "source": [
    "### 5.\tComparitive Analysis"
   ]
  },
  {
   "cell_type": "code",
   "execution_count": 13,
   "metadata": {
    "id": "HG6fWwiIF7sQ"
   },
   "outputs": [
    {
     "name": "stdout",
     "output_type": "stream",
     "text": [
      "Optimum Path: [(0, 0), (0, 1), (1, 1), (2, 1), (2, 2), (2, 3), (3, 3), (4, 3), (5, 4), (5, 5)]\n",
      "Total Cost: 9\n",
      "Time Complexity: Execution time = 0.0308 seconds\n",
      "Space Complexity: Depends on the depth of the recursion and size of the priority queue\n"
     ]
    }
   ],
   "source": [
    "#Code Block : Print the Time & Space complexity of algorithm 1\n",
    "\n",
    "import time\n",
    "\n",
    "def analyze_rbfs_performance():\n",
    "    start_time = time.time()\n",
    "    \n",
    "    call_search_algo()\n",
    "    \n",
    "    end_time = time.time()\n",
    "    print(\"Time Complexity: Execution time = {:.4f} seconds\".format(end_time - start_time))\n",
    "    # Note: Space complexity is difficult to measure exactly, but we can discuss it conceptually\n",
    "    print(\"Space Complexity: Depends on the depth of the recursion and size of the priority queue\")\n",
    "\n",
    "analyze_rbfs_performance()"
   ]
  },
  {
   "cell_type": "code",
   "execution_count": null,
   "metadata": {
    "id": "xMButLKCF7sQ"
   },
   "outputs": [],
   "source": [
    "#Code Block : Print the Time & Space complexity of algorithm 2"
   ]
  },
  {
   "cell_type": "markdown",
   "metadata": {
    "id": "y2nXwAlsF7sQ"
   },
   "source": [
    "### 6.\tProvide your comparitive analysis or findings in no more than 3 lines in below section"
   ]
  },
  {
   "cell_type": "markdown",
   "metadata": {
    "id": "si483-zoF7sQ"
   },
   "source": [
    "Comparison : _______________________________________________\n",
    "\n",
    "________________________________________________________\n",
    "\n",
    "_________________________________________________________"
   ]
  },
  {
   "cell_type": "code",
   "execution_count": null,
   "metadata": {},
   "outputs": [],
   "source": []
  }
 ],
 "metadata": {
  "colab": {
   "provenance": []
  },
  "kernelspec": {
   "display_name": "Python 3 (ipykernel)",
   "language": "python",
   "name": "python3"
  },
  "language_info": {
   "codemirror_mode": {
    "name": "ipython",
    "version": 3
   },
   "file_extension": ".py",
   "mimetype": "text/x-python",
   "name": "python",
   "nbconvert_exporter": "python",
   "pygments_lexer": "ipython3",
   "version": "3.12.2"
  }
 },
 "nbformat": 4,
 "nbformat_minor": 4
}
