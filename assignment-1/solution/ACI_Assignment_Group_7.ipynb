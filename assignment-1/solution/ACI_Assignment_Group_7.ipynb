{
 "cells": [
  {
   "cell_type": "markdown",
   "metadata": {
    "id": "MzZ4dJQYF7sH"
   },
   "source": [
    "# Artificial and Computational Intelligence Assignment 1"
   ]
  },
  {
   "cell_type": "markdown",
   "metadata": {
    "id": "Fxb1aE9zF7sK"
   },
   "source": [
    "## Problem solving by Uninformed & Informed Search"
   ]
  },
  {
   "cell_type": "markdown",
   "metadata": {
    "id": "h35jIBbCF7sK"
   },
   "source": [
    "List only the BITS (Name) of active contributors in this assignment:\n",
    "1. AGHAV SAYALI SAKHARAM (2023ac05435)\n",
    "2. DULAL DAS (2023ac05041)\n",
    "3. JAWAHARLAL RAJAN S (2023ac05504)\n",
    "4. LAKSHMISRINIVAS PERAKAM (2023ac05540)\n",
    "5. SUBHRANSU MISHRA (2023ac05489)"
   ]
  },
  {
   "cell_type": "markdown",
   "metadata": {
    "id": "pt5ygv_zF7sL"
   },
   "source": [
    "Things to follow\n",
    "1.\tUse appropriate data structures to represent the graph and the path using python libraries\n",
    "2.\tProvide proper documentation\n",
    "3.\tFind the path and print it"
   ]
  },
  {
   "cell_type": "code",
   "execution_count": 146,
   "metadata": {
    "id": "wZfop5ElF7sL"
   },
   "outputs": [],
   "source": [
    "#Coding begins here\n",
    "import heapq\n",
    "import math\n",
    "from collections import deque\n",
    "import time"
   ]
  },
  {
   "cell_type": "markdown",
   "metadata": {
    "id": "IL0QDMy3F7sL"
   },
   "source": [
    "### 1.\tDefine the environment in the following block"
   ]
  },
  {
   "cell_type": "markdown",
   "metadata": {
    "id": "RYwJPNLIF7sM"
   },
   "source": [
    "List the PEAS decription of the problem here in this markdown block"
   ]
  },
  {
   "cell_type": "markdown",
   "metadata": {
    "id": "XJ3cHp1IF7sM"
   },
   "source": [
    "Design the agent as PSA Agent(Problem Solving Agent)\n",
    "Clear Initial data structures to define the graph and variable declarations is expected\n",
    "IMPORTATANT: Write distinct code block as below"
   ]
  },
  {
   "cell_type": "code",
   "execution_count": 147,
   "metadata": {
    "colab": {
     "base_uri": "https://localhost:8080/"
    },
    "id": "osp61RsLF7sN",
    "outputId": "d0607083-3dca-446c-aacf-9ba72a50aaef"
   },
   "outputs": [
    {
     "name": "stdout",
     "output_type": "stream",
     "text": [
      "['O', ' ', 'X', 'X', ' ', ' ']\n",
      "['B', ' ', 'X', ' ', ' ', ' ']\n",
      "[' ', ' ', ' ', ' ', 'X', ' ']\n",
      "['B', ' ', 'X', ' ', ' ', 'B']\n",
      "[' ', ' ', ' ', ' ', 'B', ' ']\n",
      "[' ', 'B', ' ', 'X', ' ', 'H']\n"
     ]
    }
   ],
   "source": [
    "#Code Block : Set Initial State (Must handle dynamic inputs)\n",
    "# Assume O - office, H - home, X - road blocks, B - other buildings\n",
    "grid = [\n",
    "    ['O', ' ', 'X', 'X', ' ', ' '],\n",
    "    ['B', ' ', 'X', ' ', ' ', ' '],\n",
    "    [' ', ' ', ' ', ' ', 'X', ' '],\n",
    "    ['B', ' ', 'X', ' ', ' ', 'B'],\n",
    "    [' ', ' ', ' ', ' ', 'B', ' '],\n",
    "    [' ', 'B', ' ', 'X', ' ', 'H']\n",
    "]\n",
    "\n",
    "for row in grid:\n",
    "    print(row)\n",
    "\n",
    "def set_initial_state():\n",
    "    return grid"
   ]
  },
  {
   "cell_type": "code",
   "execution_count": 148,
   "metadata": {
    "id": "XODwoWZ0F7sO"
   },
   "outputs": [],
   "source": [
    "#Code Block : Set the matrix for transition & cost (as relevant for the given problem)\n",
    "\n",
    "# UCS\n",
    "def calculate_cost_ucs(number_of_square, points):\n",
    "    # cost is lower the better\n",
    "    # higher points is better\n",
    "    return number_of_square - points\n",
    "\n",
    "#RBFS\n",
    "def calculate_heuristic_rbfs(current_position, goal_position):\n",
    "    \"\"\"\n",
    "    Calculate the Euclidean distance heuristic between the current position and the goal.\n",
    "    \"\"\"\n",
    "    return math.sqrt((current_position[0] - goal_position[0])**2 + (current_position[1] - goal_position[1])**2)\n",
    "\n",
    "\n",
    "def calculate_penalty_rbfs(city_grid, position):\n",
    "    \"\"\"\n",
    "    Calculate the penalty based on proximity to buildings ('B') and roadblocks ('X').\n",
    "    \"\"\"\n",
    "    x, y = position\n",
    "    penalty = 0\n",
    "\n",
    "    # Adjacent positions to check for penalties\n",
    "    adjacent_offsets = [(-1, 0), (1, 0), (0, -1), (0, 1)]\n",
    "\n",
    "    for dx, dy in adjacent_offsets:\n",
    "        nx, ny = x + dx, y + dy\n",
    "        if 0 <= nx < len(city_grid) and 0 <= ny < len(city_grid[0]):\n",
    "            if city_grid[nx][ny] == 'B':\n",
    "                penalty += 5  # Add reward for proximity to a building\n",
    "            elif city_grid[nx][ny] == 'X':\n",
    "                penalty -= 3  # impose penalty for proximity to a roadblock\n",
    "\n",
    "    return penalty"
   ]
  },
  {
   "cell_type": "code",
   "execution_count": 149,
   "metadata": {
    "id": "ro24Gaj7F7sO"
   },
   "outputs": [],
   "source": [
    "#Code Block : Write function to design the Transition Model/Successor function. Ideally this would be called while search algorithms are implemented\n",
    "\n",
    "\n",
    "# Directions for moving in the grid (right, left, down, up, and diagonals)\n",
    "straight_directions = [(0, 1), (0, -1), (1, 0), (-1, 0)]\n",
    "diagonal_directions = [(1, 1), (1, -1), (-1, 1), (-1, -1)]\n",
    "\n",
    "def get_neighbors_rbfs(city_grid, current_position, current_cost, goal_position, visited_nodes):\n",
    "    \"\"\"\n",
    "    Generate and return valid neighboring positions for the GPS agent.\n",
    "    Straight movements are prioritized, and diagonal movements are only considered when necessary.\n",
    "    \"\"\"\n",
    "    neighbors = []\n",
    "\n",
    "    # Explore straight directions first\n",
    "    for direction in straight_directions:\n",
    "        new_position = (current_position[0] + direction[0], current_position[1] + direction[1])\n",
    "        if 0 <= new_position[0] < len(city_grid) and 0 <= new_position[1] < len(city_grid[0]):\n",
    "            if city_grid[new_position[0]][new_position[1]] != 'B' and city_grid[new_position[0]][new_position[1]] != 'X':\n",
    "                if new_position not in visited_nodes:\n",
    "                    penalty = calculate_penalty_rbfs(city_grid, new_position)\n",
    "                    movement_cost = current_cost + 1 + penalty  # Straight movement cost with penalty\n",
    "                    heuristic_cost = calculate_heuristic_rbfs(new_position, goal_position)\n",
    "                    neighbors.append((new_position, movement_cost, heuristic_cost))\n",
    "\n",
    "    # If no unvisited straight paths are available, explore diagonal directions\n",
    "    if not neighbors:\n",
    "        for direction in diagonal_directions:\n",
    "            new_position = (current_position[0] + direction[0], current_position[1] + direction[1])\n",
    "            if 0 <= new_position[0] < len(city_grid) and 0 <= new_position[1] < len(city_grid[0]):\n",
    "                if city_grid[new_position[0]][new_position[1]] != 'B' and city_grid[new_position[0]][new_position[1]] != 'X':\n",
    "                    if new_position not in visited_nodes:\n",
    "                        penalty = calculate_penalty_rbfs(city_grid, new_position)\n",
    "                        movement_cost = current_cost + 1 - 3 + penalty  # Diagonal movement cost (3) with penalty\n",
    "                        heuristic_cost = calculate_heuristic_rbfs(new_position, goal_position)\n",
    "                        neighbors.append((new_position, movement_cost, heuristic_cost))\n",
    "\n",
    "    return neighbors\n"
   ]
  },
  {
   "cell_type": "code",
   "execution_count": 150,
   "metadata": {
    "id": "HIVPhrRWF7sO"
   },
   "outputs": [],
   "source": [
    "#Code block : Write fucntion to handle goal test (Must handle dynamic inputs). Ideally this would be called while search algorithms are implemented\n",
    "\n",
    "def goal_test_rbfs(current_position, goal_position):\n",
    "    \"\"\"\n",
    "    Check if the current position matches the goal position.\n",
    "    \"\"\"\n",
    "    return current_position == goal_position\n",
    "\n",
    "\n",
    "def goal_test_ucs(x, y):\n",
    "    return grid[x][y] == 'H'"
   ]
  },
  {
   "cell_type": "markdown",
   "metadata": {
    "id": "Z4QwDeX5F7sO"
   },
   "source": [
    "### 2.\tDefinition of Algorithm 1 (Recursive Best-First Search (RBFS))"
   ]
  },
  {
   "cell_type": "code",
   "execution_count": 151,
   "metadata": {
    "id": "zD_EPCHWF7sO"
   },
   "outputs": [],
   "source": [
    "#Code Block : Function for algorithm 1 implementation\n",
    "\n",
    "# RBFS Algorithm Implementation\n",
    "\n",
    "def gps_navigation_agent_rbfs(city_grid, start_position, goal_position):\n",
    "    \"\"\"\n",
    "    Implement Recursive Best-First Search (RBFS) algorithm to navigate the city grid.\n",
    "    The agent aims to find the safest and shortest path from start to goal.\n",
    "    \"\"\"\n",
    "    # Initialize the queue with the starting position\n",
    "    navigation_queue = deque([(start_position, 0, calculate_heuristic_rbfs(start_position, goal_position), float('inf'))])\n",
    "    nodes_expanded = 0\n",
    "    path_tracker = {start_position: None}\n",
    "    path_costs = {start_position: 0}\n",
    "    visited_nodes = set()\n",
    "\n",
    "    while navigation_queue:\n",
    "        current_position, current_cost, heuristic_cost, f_limit = navigation_queue.pop()\n",
    "        nodes_expanded += 1\n",
    "        visited_nodes.add(current_position)\n",
    "\n",
    "        # Verbose output for current node expansion and path cost\n",
    "        print(f\"Expanding Node: {current_position} with Path Cost: {current_cost}\")\n",
    "\n",
    "        # Check if the goal has been reached\n",
    "        if goal_test_rbfs(current_position, goal_position):\n",
    "            # Backtrack to generate the final path\n",
    "            final_path = []\n",
    "            while current_position:\n",
    "                final_path.append(current_position)\n",
    "                current_position = path_tracker[current_position]\n",
    "            final_path.reverse()\n",
    "            return final_path, path_costs[goal_position], nodes_expanded\n",
    "\n",
    "        # Generate neighbors for the current position\n",
    "        neighbors = get_neighbors_rbfs(city_grid, current_position, current_cost, goal_position, visited_nodes)\n",
    "        if not neighbors:\n",
    "            continue\n",
    "\n",
    "        # Sort neighbors by the total estimated cost (g + h)\n",
    "        neighbors = sorted(neighbors, key=lambda x: x[1] + x[2])\n",
    "\n",
    "        alternative_f_limit = float('inf')\n",
    "\n",
    "        # Explore each neighbor\n",
    "        for i in range(len(neighbors)):\n",
    "            neighbor_position, neighbor_cost, neighbor_heuristic = neighbors[i]\n",
    "            if neighbor_position not in visited_nodes and (neighbor_position not in path_costs or neighbor_cost < path_costs[neighbor_position]):\n",
    "                path_tracker[neighbor_position] = current_position\n",
    "                path_costs[neighbor_position] = neighbor_cost\n",
    "\n",
    "                if neighbor_cost + neighbor_heuristic <= f_limit:\n",
    "                    navigation_queue.append((neighbor_position, neighbor_cost, neighbor_heuristic, f_limit))\n",
    "                else:\n",
    "                    alternative_f_limit = min(alternative_f_limit, neighbor_cost + neighbor_heuristic)\n",
    "\n",
    "        if navigation_queue and navigation_queue[-1][2] + navigation_queue[-1][1] > f_limit:\n",
    "            f_limit = alternative_f_limit\n",
    "\n",
    "    return None, None, nodes_expanded  # No path found\n"
   ]
  },
  {
   "cell_type": "markdown",
   "metadata": {
    "id": "KnbdDl6HF7sO"
   },
   "source": [
    "### 3.\tDefinition of Algorithm 2 (Uniform Cost Search (UCS))"
   ]
  },
  {
   "cell_type": "code",
   "execution_count": 152,
   "metadata": {
    "id": "3HYh7-eJF7sP"
   },
   "outputs": [],
   "source": [
    "#Code Block : Function for algorithm 2 implementation\n",
    "\n",
    "# UCS\n",
    "# Dimensions of the grid\n",
    "rows = len(grid)\n",
    "cols = len(grid[0])\n",
    "\n",
    "def ucs(start):\n",
    "    \"\"\"\n",
    "    Implement Uniform Cost Search (UCS) algorithm to navigate the city grid.\n",
    "    The agent aims to find the safest and shortest path from start to goal.\n",
    "    \"\"\"\n",
    "    # Priority queue for UCS\n",
    "    queue = []\n",
    "    heapq.heappush(queue, (calculate_cost_ucs(0, 0), 0, 0, start))  # (priority, cost, points, position)\n",
    "\n",
    "    # Set for visited nodes\n",
    "    visited = set()\n",
    "\n",
    "    while queue:\n",
    "        priority, cost, points, (x, y) = heapq.heappop(queue)\n",
    "\n",
    "        # If the goal is reached\n",
    "        if goal_test_ucs(x, y):\n",
    "            print(f\"visiting ({x},{y}), cost {cost}, points {points}, Goal Test: True\")\n",
    "            return cost, points, visited\n",
    "\n",
    "        if (x, y) in visited:\n",
    "            continue\n",
    "\n",
    "        visited.add((x, y))\n",
    "        print(f\"visiting ({x},{y}), cost {cost}, points {points}, Goal Test: False\")\n",
    "        # Flag to check if any straight move is possible\n",
    "        straight_move_possible = False\n",
    "\n",
    "        for dx, dy in straight_directions:\n",
    "            nx, ny = x + dx, y + dy\n",
    "\n",
    "            if 0 <= nx < rows and 0 <= ny < cols and (nx, ny) not in visited and grid[nx][ny] not in ('X', 'B'):\n",
    "                straight_move_possible = True\n",
    "                new_cost = cost + 1\n",
    "                new_points = points\n",
    "\n",
    "                # Check for adjacent 'X' and 'B'\n",
    "                for ddx, ddy in straight_directions:\n",
    "                    ax, ay = nx + ddx, ny + ddy\n",
    "                    if 0 <= ax < rows and 0 <= ay < cols:\n",
    "                        if grid[ax][ay] == 'X':\n",
    "                            new_points -= 3\n",
    "                        elif grid[ax][ay] == 'B':\n",
    "                            new_points += 5\n",
    "\n",
    "                heapq.heappush(queue, (calculate_cost_ucs(new_cost, new_points), new_cost, new_points, (nx, ny)))\n",
    "\n",
    "        # If no straight path was possible, allow diagonal movements\n",
    "        if not straight_move_possible:\n",
    "            #penalty of 3\n",
    "            diagonal_points = points - 3\n",
    "            for dx, dy in diagonal_directions:\n",
    "                nx, ny = x + dx, y + dy\n",
    "\n",
    "                if 0 <= nx < rows and 0 <= ny < cols and (nx, ny) not in visited and grid[nx][ny] not in ('X', 'B'):\n",
    "                    new_cost = cost + 1\n",
    "                    new_points = diagonal_points\n",
    "\n",
    "                    # Check for adjacent 'X' and 'B'\n",
    "                    for ddx, ddy in straight_directions + diagonal_directions:\n",
    "                        ax, ay = nx + ddx, ny + ddy\n",
    "                        if 0 <= ax < rows and 0 <= ay < cols:\n",
    "                            if grid[ax][ay] == 'X':\n",
    "                                new_points -= 3\n",
    "                            elif grid[ax][ay] == 'B':\n",
    "                                new_points += 5\n",
    "\n",
    "                    heapq.heappush(queue, (calculate_cost_ucs(new_cost, new_points), new_cost, new_points, (nx, ny)))\n",
    "\n",
    "    return float('inf'), 0, visited\n"
   ]
  },
  {
   "cell_type": "markdown",
   "metadata": {
    "id": "LEV2XHccF7sP"
   },
   "source": [
    "### DYNAMIC INPUT"
   ]
  },
  {
   "cell_type": "markdown",
   "metadata": {
    "id": "CylYRo_DF7sP"
   },
   "source": [
    "IMPORTANT : Dynamic Input must be got in this section. Display the possible states to choose from:\n",
    "This is applicable for all the relevent problems as mentioned in the question."
   ]
  },
  {
   "cell_type": "code",
   "execution_count": 153,
   "metadata": {
    "id": "Q5t1Lc-wF7sP"
   },
   "outputs": [],
   "source": [
    "#Code Block : Function & call to get inputs (start/end state)\n",
    "\n",
    "def get_dynamic_inputs():\n",
    "    \"\"\"\n",
    "    Provide dynamic start and goal positions.\n",
    "    \"\"\"\n",
    "    start_position = (0, 0)\n",
    "    goal_position = (5, 5)\n",
    "    return start_position, goal_position"
   ]
  },
  {
   "cell_type": "markdown",
   "metadata": {
    "id": "xsfOP81lF7sP"
   },
   "source": [
    "### 4.\tCalling the search algorithms\n",
    "(For bidirectional search in below sections first part can be used as per Hint provided. Under second section other combinations as per Hint or your choice of 2 algorithms can be called .As an analyst suggest suitable approximation in the comparitive analysis section)"
   ]
  },
  {
   "cell_type": "code",
   "execution_count": 154,
   "metadata": {
    "colab": {
     "base_uri": "https://localhost:8080/"
    },
    "id": "Og5zI9thF7sP",
    "outputId": "ba849f7c-2f6d-485b-aec4-6545db862c5a"
   },
   "outputs": [
    {
     "name": "stdout",
     "output_type": "stream",
     "text": [
      "Expanding Node: (0, 0) with Path Cost: 0\n",
      "Expanding Node: (0, 1) with Path Cost: -2\n",
      "Expanding Node: (1, 1) with Path Cost: 1\n",
      "Expanding Node: (2, 1) with Path Cost: 2\n",
      "Expanding Node: (2, 0) with Path Cost: 13\n",
      "Expanding Node: (3, 1) with Path Cost: 5\n",
      "Expanding Node: (4, 1) with Path Cost: 11\n",
      "Expanding Node: (4, 0) with Path Cost: 17\n",
      "Expanding Node: (5, 0) with Path Cost: 23\n",
      "Expanding Node: (4, 2) with Path Cost: 9\n",
      "Expanding Node: (5, 2) with Path Cost: 12\n",
      "Expanding Node: (4, 3) with Path Cost: 12\n",
      "Expanding Node: (3, 3) with Path Cost: 10\n",
      "Expanding Node: (3, 4) with Path Cost: 18\n",
      "Expanding Node: (4, 5) with Path Cost: 26\n",
      "Expanding Node: (5, 5) with Path Cost: 27\n",
      "Optimal Path Found: [(0, 0), (0, 1), (1, 1), (2, 1), (3, 1), (4, 1), (4, 2), (4, 3), (3, 3), (3, 4), (4, 5), (5, 5)]\n",
      "Optimal Path Len 12\n",
      "Total Path Cost: 27\n",
      "Space Complexity: Number of nodes expanded = 16\n",
      "Time Complexity: Time taken = 0.00019311904907226562 seconds\n"
     ]
    }
   ],
   "source": [
    "#Invoke algorithm 1 (Should Print the solution, path, cost etc., (As mentioned in the problem))\n",
    "\n",
    "def run_gps_navigation_agent_rbfs():\n",
    "    # Example grid\n",
    "    city_grid = set_initial_state()\n",
    "\n",
    "    # Get static start and goal positions\n",
    "    start_position, goal_position = get_dynamic_inputs()\n",
    "\n",
    "    # Measure time complexity\n",
    "    start_time = time.time()\n",
    "\n",
    "    # Run the GPS Navigation Agent\n",
    "    optimal_path, total_path_cost, total_nodes_expanded = gps_navigation_agent_rbfs(city_grid, start_position, goal_position)\n",
    "\n",
    "    # Measure time complexity\n",
    "    end_time = time.time()\n",
    "    time_complexity = end_time - start_time\n",
    "\n",
    "    min_cost_rbfs = len(optimal_path)\n",
    "\n",
    "    # Verbose output of the results\n",
    "    if optimal_path:\n",
    "        print(\"Optimal Path Found:\", optimal_path)\n",
    "        print(\"Optimal Path Len\", len(optimal_path))\n",
    "        print(\"Total Path Cost:\", total_path_cost)\n",
    "    else:\n",
    "        print(\"No path found\")\n",
    "    print(\"Space Complexity: Number of nodes expanded =\", total_nodes_expanded)\n",
    "    print(\"Time Complexity: Time taken =\", time_complexity, \"seconds\")\n",
    "    return total_nodes_expanded, time_complexity,min_cost_rbfs,total_path_cost\n",
    "space_complexity_rbfs, time_complexity_rbfs,min_cost_rbfs,max_points_rbfs = run_gps_navigation_agent_rbfs()"
   ]
  },
  {
   "cell_type": "code",
   "execution_count": 155,
   "metadata": {
    "colab": {
     "base_uri": "https://localhost:8080/"
    },
    "id": "u3MJeA6eF7sP",
    "outputId": "5508d72e-edeb-45e9-ac65-d0e7ce277c23"
   },
   "outputs": [
    {
     "name": "stdout",
     "output_type": "stream",
     "text": [
      "Starting UCS from (0, 0)\n",
      "visiting (0,0), cost 0, points 0, Goal Test: False\n",
      "visiting (0,1), cost 1, points -3, Goal Test: False\n",
      "visiting (1,1), cost 2, points -1, Goal Test: False\n",
      "visiting (2,1), cost 3, points -1, Goal Test: False\n",
      "visiting (2,0), cost 4, points 9, Goal Test: False\n",
      "visiting (3,1), cost 5, points 8, Goal Test: False\n",
      "visiting (4,1), cost 6, points 13, Goal Test: False\n",
      "visiting (4,0), cost 7, points 18, Goal Test: False\n",
      "visiting (5,0), cost 8, points 23, Goal Test: False\n",
      "visiting (4,2), cost 7, points 10, Goal Test: False\n",
      "visiting (4,3), cost 8, points 12, Goal Test: False\n",
      "visiting (5,2), cost 8, points 12, Goal Test: False\n",
      "visiting (3,3), cost 9, points 9, Goal Test: False\n",
      "visiting (3,4), cost 10, points 16, Goal Test: False\n",
      "visiting (4,5), cost 11, points 23, Goal Test: False\n",
      "visiting (5,5), cost 12, points 23, Goal Test: True\n",
      "Minimum cost: 12, Maximum points: 23, Time Complexity: 0.0005042552947998047, Space Complexity: 15, Actual Memory used: 0.006193\n"
     ]
    }
   ],
   "source": [
    "#Invoke algorithm 2 (Should Print the solution, path, cost etc., (As mentioned in the problem))\n",
    "\n",
    "def run_gps_navigation_agent_ucs():\n",
    "    start_position, goal_position = get_dynamic_inputs()\n",
    "    print(f\"Starting UCS from {start_position}\")\n",
    "    return ucs(start_position)\n",
    "\n",
    "import tracemalloc\n",
    "def measure_complexity(func, *args):\n",
    "    tracemalloc.start()\n",
    "    start_time = time.time()\n",
    "    result = func(*args)\n",
    "    end_time = time.time()\n",
    "    current, peak = tracemalloc.get_traced_memory()\n",
    "    tracemalloc.stop()\n",
    "    time_taken = end_time - start_time\n",
    "    space_taken = peak / 10**6  # Convert to MB\n",
    "    return result, time_taken, space_taken\n",
    "\n",
    "(min_cost_ucs, max_points_ucs, visited_nodes), time_complexity_ucs, space_taken_ucs = measure_complexity(run_gps_navigation_agent_ucs)\n",
    "space_complexity_ucs = len(visited_nodes)\n",
    "print(f\"Minimum cost: {min_cost_ucs}, Maximum points: {max_points_ucs}, Time Complexity: {time_complexity_ucs}, Space Complexity: {space_complexity_ucs}, Actual Memory used: {space_taken_ucs}\")\n"
   ]
  },
  {
   "cell_type": "markdown",
   "metadata": {
    "id": "TOU3Rem6F7sQ"
   },
   "source": [
    "### 5.\tComparitive Analysis"
   ]
  },
  {
   "cell_type": "code",
   "execution_count": 156,
   "metadata": {
    "colab": {
     "base_uri": "https://localhost:8080/"
    },
    "id": "HG6fWwiIF7sQ",
    "outputId": "d2fa0b67-6d64-4992-8c8e-b3d268b4aee5"
   },
   "outputs": [
    {
     "name": "stdout",
     "output_type": "stream",
     "text": [
      "Recursive Best First Search - A* (RBFS)\n",
      "Minimum cost: 12, Maximum points: 27, Space complexity: 16, Time complexity: 0.00019311904907226562 ms\n"
     ]
    }
   ],
   "source": [
    "#Code Block : Print the Time & Space complexity of algorithm 1\n",
    "\n",
    "print(\"Recursive Best First Search - A* (RBFS)\")\n",
    "print(f\"Minimum cost: {min_cost_rbfs}, Maximum points: {max_points_rbfs}, Space complexity: {space_complexity_rbfs}, Time complexity: {time_complexity_rbfs} ms\")\n",
    "\n",
    "# The output of this function will display the time complexity (execution time)\n",
    "# and the space complexity (number of nodes expanded) for the RBFS algorithm."
   ]
  },
  {
   "cell_type": "code",
   "execution_count": 157,
   "metadata": {
    "colab": {
     "base_uri": "https://localhost:8080/"
    },
    "id": "xMButLKCF7sQ",
    "outputId": "7a5c0682-c6d0-4fde-a0ed-e75d571840c5",
    "scrolled": true
   },
   "outputs": [
    {
     "name": "stdout",
     "output_type": "stream",
     "text": [
      "Uniform Cost Search (UCS)\n",
      "Minimum cost: 12, Maximum points: 23, Space complexity: 15, Time complexity: 0.0005042552947998047 ms\n"
     ]
    }
   ],
   "source": [
    "#Code Block : Print the Time & Space complexity of algorithm 2\n",
    "\n",
    "# The output of this function will display the time complexity (execution time)\n",
    "# and the space complexity (number of nodes expanded) for the UCS algorithm.\n",
    "print(\"Uniform Cost Search (UCS)\")\n",
    "print(f\"Minimum cost: {min_cost_ucs}, Maximum points: {max_points_ucs}, Space complexity: {space_complexity_ucs}, Time complexity: {time_complexity_ucs} ms\")"
   ]
  },
  {
   "cell_type": "markdown",
   "metadata": {
    "id": "y2nXwAlsF7sQ"
   },
   "source": [
    "### 6.\tProvide your comparitive analysis or findings in no more than 3 lines in below section"
   ]
  },
  {
   "cell_type": "markdown",
   "metadata": {
    "id": "si483-zoF7sQ"
   },
   "source": [
    "### Comparison\n",
    "\n",
    "Recursive Best First Search (RBFS) and Uniform Cost Search (UCS) show similar minimum costs, but UCS has a slightly lower maximum points value and a marginally higher space complexity. RBFS demonstrates faster time complexity (0.00019311904907226562 ms vs. 0.0005042552947998047 ms), but UCS might be preferred if space is more constrained.\n",
    "\n",
    "Both algorithms will find the shortest path, but they operate differently. RBFS uses a heuristic to guide the search, while UCS explores all possible paths in order of their cost. The exact path found will depend on the specific grid and blocked paths. This path can be found using either RBFS or UCS, ensuring the shortest and safest route is taken."
   ]
  }
 ],
 "metadata": {
  "colab": {
   "collapsed_sections": [
    "Z4QwDeX5F7sO"
   ],
   "provenance": []
  },
  "kernelspec": {
   "display_name": "Python 3 (ipykernel)",
   "language": "python",
   "name": "python3"
  },
  "language_info": {
   "codemirror_mode": {
    "name": "ipython",
    "version": 3
   },
   "file_extension": ".py",
   "mimetype": "text/x-python",
   "name": "python",
   "nbconvert_exporter": "python",
   "pygments_lexer": "ipython3",
   "version": "3.11.7"
  }
 },
 "nbformat": 4,
 "nbformat_minor": 4
}
