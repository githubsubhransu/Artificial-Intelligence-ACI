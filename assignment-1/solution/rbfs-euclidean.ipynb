{
 "cells": [
  {
   "cell_type": "markdown",
   "metadata": {
    "id": "MzZ4dJQYF7sH"
   },
   "source": [
    "# Artificial and Computational Intelligence Assignment 1"
   ]
  },
  {
   "cell_type": "markdown",
   "metadata": {
    "id": "Fxb1aE9zF7sK"
   },
   "source": [
    "## Problem solving by Uninformed & Informed Search"
   ]
  },
  {
   "cell_type": "markdown",
   "metadata": {
    "id": "h35jIBbCF7sK"
   },
   "source": [
    "List only the BITS (Name) of active contributors in this assignment:\n",
    "1. ___________________\n",
    "2. __________________\n",
    "3. ____________________\n",
    "4. ___________________\n",
    "5. ___________________"
   ]
  },
  {
   "cell_type": "markdown",
   "metadata": {
    "id": "pt5ygv_zF7sL"
   },
   "source": [
    "Things to follow\n",
    "1.\tUse appropriate data structures to represent the graph and the path using python libraries\n",
    "2.\tProvide proper documentation\n",
    "3.\tFind the path and print it"
   ]
  },
  {
   "cell_type": "code",
   "execution_count": 3,
   "metadata": {
    "id": "wZfop5ElF7sL"
   },
   "outputs": [],
   "source": [
    "#Coding begins here"
   ]
  },
  {
   "cell_type": "markdown",
   "metadata": {
    "id": "IL0QDMy3F7sL"
   },
   "source": [
    "### 1.\tDefine the environment in the following block"
   ]
  },
  {
   "cell_type": "markdown",
   "metadata": {
    "id": "RYwJPNLIF7sM"
   },
   "source": [
    "List the PEAS decription of the problem here in this markdown block"
   ]
  },
  {
   "cell_type": "markdown",
   "metadata": {
    "id": "XJ3cHp1IF7sM"
   },
   "source": [
    "Design the agent as PSA Agent(Problem Solving Agent)\n",
    "Clear Initial data structures to define the graph and variable declarations is expected\n",
    "IMPORTATANT: Write distinct code block as below"
   ]
  },
  {
   "cell_type": "code",
   "execution_count": 17,
   "metadata": {
    "id": "osp61RsLF7sN"
   },
   "outputs": [],
   "source": [
    "#Code Block : Set Initial State (Must handle dynamic inputs)\n",
    "\n",
    "import heapq\n",
    "import math\n",
    "from collections import deque\n",
    "import time\n",
    "\n",
    "def set_initial_state():\n",
    "    # This function sets up the grid. 'O' means open path, 'B' means building, 'R' means roadblock. Here start and end positions are not\n",
    "    # considered as they are the part of dynamic input section.\n",
    "    # Example grid\n",
    "    city_grid = [\n",
    "        ['O', 'O', 'R', 'R', 'O', 'O'],\n",
    "        ['B', 'O', 'R', 'O', 'O', 'O'],\n",
    "        ['O', 'O', 'O', 'O', 'R', 'O'],\n",
    "        ['B', 'O', 'R', 'O', 'O', 'B'],\n",
    "        ['O', 'O', 'O', 'O', 'B', 'O'],\n",
    "        ['O', 'B', 'O', 'R', 'O', 'O']\n",
    "    ]\n",
    "    return city_grid"
   ]
  },
  {
   "cell_type": "code",
   "execution_count": 18,
   "metadata": {
    "id": "XODwoWZ0F7sO"
   },
   "outputs": [],
   "source": [
    "#Code Block : Set the matrix for transition & cost (as relevant for the given problem)\n",
    "\n",
    "# Heuristic function (Euclidean distance + penalties)\n",
    "def heuristic_function(current_position, goal_position):\n",
    "    \"\"\"\n",
    "    Calculate the heuristic cost from the current position to the goal.\n",
    "    Uses Euclidean distance as the heuristic.\n",
    "    \"\"\"\n",
    "    x1, y1 = current_position\n",
    "    x2, y2 = goal_position\n",
    "    return math.sqrt((x1 - x2) ** 2 + (y1 - y2) ** 2)\n",
    "\n",
    "def calculate_movement_cost(current_position, neighbor_position):\n",
    "    \"\"\"\n",
    "    Calculate the movement cost between the current position and a neighboring position.\n",
    "    Includes a penalty for diagonal movement.\n",
    "    \"\"\"\n",
    "    x1, y1 = current_position\n",
    "    x2, y2 = neighbor_position\n",
    "    return 1 + DIAGONAL_PENALTY if x1 != x2 and y1 != y2 else 1\n",
    "\n",
    "# Cost function to move to a neighboring node\n",
    "def calculate_path_cost_breakdown(optimal_path, grid):\n",
    "    \"\"\"\n",
    "    Calculate and provide a detailed breakdown of the costs associated with each step of the optimal path.\n",
    "    This includes movement costs and adjustments for adjacency to buildings or roadblocks.\n",
    "    \"\"\"\n",
    "    total_gn = 0\n",
    "    path_cost_details = []\n",
    "    \n",
    "    for i in range(1, len(optimal_path)):\n",
    "        current = optimal_path[i-1]\n",
    "        next_node = optimal_path[i]\n",
    "        \n",
    "        # Calculate the movement cost\n",
    "        move_cost = calculate_movement_cost(current, next_node)\n",
    "        \n",
    "        # Calculate adjustment for adjacency to buildings or roadblocks\n",
    "        adjustment = 0\n",
    "        x2, y2 = next_node\n",
    "        for dx, dy in [(-1, 0), (1, 0), (0, -1), (0, 1)]:\n",
    "            nx, ny = x2 + dx, y2 + dy\n",
    "            if 0 <= nx < len(grid) and 0 <= ny < len(grid[0]):\n",
    "                if grid[nx][ny] == 'B':\n",
    "                    adjustment += ADJACENT_BUILDING_REWARD\n",
    "                elif grid[nx][ny] == 'R':\n",
    "                    adjustment += ADJACENT_ROADBLOCK_PENALTY\n",
    "        \n",
    "        step_cost = move_cost + adjustment\n",
    "        total_gn += step_cost\n",
    "        \n",
    "        step_details = {\n",
    "            'current': next_node,\n",
    "            'movement_cost': move_cost,\n",
    "            'adjustment': adjustment,\n",
    "            'step_total_cost': step_cost,\n",
    "            'cumulative_cost': total_gn\n",
    "        }\n",
    "        path_cost_details.append(step_details)\n",
    "    \n",
    "    return total_gn, path_cost_details"
   ]
  },
  {
   "cell_type": "code",
   "execution_count": 19,
   "metadata": {
    "id": "ro24Gaj7F7sO"
   },
   "outputs": [],
   "source": [
    "#Code Block : Write function to design the Transition Model/Successor function. Ideally this would be called while search algorithms are implemented\n",
    "\n",
    "# This is coded as part of the RBFS function in the next section.\n"
   ]
  },
  {
   "cell_type": "code",
   "execution_count": 20,
   "metadata": {
    "id": "HIVPhrRWF7sO"
   },
   "outputs": [],
   "source": [
    "#Code block : Write fucntion to handle goal test (Must handle dynamic inputs). Ideally this would be called while search algorithms are implemented\n",
    "\n",
    "def is_goal_reached(current_position, goal_position):\n",
    "    \"\"\"\n",
    "    Check if the current position is the goal position.\n",
    "    \"\"\"\n",
    "    return current_position == goal_position"
   ]
  },
  {
   "cell_type": "markdown",
   "metadata": {
    "id": "Z4QwDeX5F7sO"
   },
   "source": [
    "### 2.\tDefinition of Algorithm 1 (Mention the Name of the algorithm here)"
   ]
  },
  {
   "cell_type": "code",
   "execution_count": 21,
   "metadata": {
    "id": "zD_EPCHWF7sO"
   },
   "outputs": [],
   "source": [
    "#Code Block : Function for algorithm 1 implementation\n",
    "\n",
    "# RBFS Algorithm Implementation\n",
    "\n",
    "def recursive_best_first_search(current_position, goal_position, grid, f_limit, g, path, nodes_expanded, max_depth):\n",
    "    \"\"\"\n",
    "    Recursive Best-First Search (RBFS) algorithm for finding the optimal path.\n",
    "    Returns the optimal path, the cumulative cost g(n), the f(n) value, the number of nodes expanded, and the maximum depth reached.\n",
    "    \"\"\"\n",
    "    if is_goal_reached(current_position, goal_position):\n",
    "        h = heuristic_function(current_position, goal_position)\n",
    "        fn = g + h\n",
    "        return path, g, fn, nodes_expanded, max_depth  # Goal found\n",
    "    \n",
    "    successors = []\n",
    "    x, y = current_position\n",
    "    directions = [(-1, 0), (1, 0), (0, -1), (0, 1), (-1, -1), (-1, 1), (1, -1), (1, 1)]\n",
    "    for dx, dy in directions:\n",
    "        nx, ny = x + dx, y + dy\n",
    "        if 0 <= nx < len(grid) and 0 <= ny < len(grid[0]) and grid[nx][ny] == 'O':\n",
    "            move_cost = calculate_movement_cost(current_position, (nx, ny))\n",
    "            new_g = g + move_cost\n",
    "            h = heuristic_function((nx, ny), goal_position)\n",
    "            f = new_g + h\n",
    "            successors.append(((nx, ny), f, new_g, h))\n",
    "    \n",
    "    if not successors:\n",
    "        return None, math.inf, None, nodes_expanded, max_depth  # Dead end\n",
    "    \n",
    "    # Sort successors by f value\n",
    "    successors.sort(key=lambda x: x[1])\n",
    "    \n",
    "    while successors:\n",
    "        best = successors[0]\n",
    "        if best[1] > f_limit:\n",
    "            return None, best[1], None, nodes_expanded, max_depth\n",
    "        \n",
    "        alternative_f = successors[1][1] if len(successors) > 1 else math.inf\n",
    "        \n",
    "        result, best_f, fn, nodes_expanded, max_depth = recursive_best_first_search(\n",
    "            best[0], goal_position, grid, min(f_limit, alternative_f), best[2], \n",
    "            path + [best[0]], nodes_expanded + 1, max(max_depth, len(path))\n",
    "        )\n",
    "    # Using the second best f-score for the backtracking process best_f\n",
    "        successors[0] = (best[0], best_f, best[2], best[3])\n",
    "        \n",
    "        if result is not None:\n",
    "            return result, best_f, fn, nodes_expanded, max_depth\n",
    "        \n",
    "        successors.sort(key=lambda x: x[1])\n",
    "    \n",
    "    return None, math.inf, None, nodes_expanded, max_depth\n"
   ]
  },
  {
   "cell_type": "markdown",
   "metadata": {
    "id": "KnbdDl6HF7sO"
   },
   "source": [
    "### 3.\tDefinition of Algorithm 2 (Mention the Name of the algorithm here)"
   ]
  },
  {
   "cell_type": "code",
   "execution_count": 22,
   "metadata": {
    "id": "3HYh7-eJF7sP"
   },
   "outputs": [],
   "source": [
    "#Code Block : Function for algorithm 2 implementation"
   ]
  },
  {
   "cell_type": "markdown",
   "metadata": {
    "id": "LEV2XHccF7sP"
   },
   "source": [
    "### DYNAMIC INPUT"
   ]
  },
  {
   "cell_type": "markdown",
   "metadata": {
    "id": "CylYRo_DF7sP"
   },
   "source": [
    "IMPORTANT : Dynamic Input must be got in this section. Display the possible states to choose from:\n",
    "This is applicable for all the relevent problems as mentioned in the question."
   ]
  },
  {
   "cell_type": "code",
   "execution_count": 31,
   "metadata": {
    "id": "Q5t1Lc-wF7sP"
   },
   "outputs": [],
   "source": [
    "#Code Block : Function & call to get inputs (start/end state)\n",
    "\n",
    "def get_dynamic_inputs():\n",
    "    \"\"\"\n",
    "    Provide dynamic start and goal positions.\n",
    "    These positions can be modified as needed for different test cases.\n",
    "    \"\"\"\n",
    "    start_position = (0, 0)  # Example start position\n",
    "    goal_position = (4, 3)   # Example goal position\n",
    "    return start_position, goal_position"
   ]
  },
  {
   "cell_type": "markdown",
   "metadata": {
    "id": "xsfOP81lF7sP"
   },
   "source": [
    "### 4.\tCalling the search algorithms\n",
    "(For bidirectional search in below sections first part can be used as per Hint provided. Under second section other combinations as per Hint or your choice of 2 algorithms can be called .As an analyst suggest suitable approximation in the comparitive analysis section)"
   ]
  },
  {
   "cell_type": "code",
   "execution_count": 32,
   "metadata": {
    "id": "Og5zI9thF7sP"
   },
   "outputs": [],
   "source": [
    "#Invoke algorithm 1 (Should Print the solution, path, cost etc., (As mentioned in the problem))\n",
    "\n",
    "def find_and_evaluate_optimal_path():\n",
    "    \"\"\"\n",
    "    Wrapper function to find the optimal path using the RBFS algorithm, and then calculate and print a detailed cost breakdown.\n",
    "    \"\"\"\n",
    "    grid = setup_city_grid()\n",
    "    \n",
    "    # Get dynamic start and goal positions\n",
    "    start, goal = get_dynamic_inputs()\n",
    "    \n",
    "    # Measure time complexity: start time\n",
    "    start_time = time.time()\n",
    "    \n",
    "    # Step 1: Find the optimal path using RBFS\n",
    "    path, _, total_fn, nodes_expanded, max_depth = recursive_best_first_search(\n",
    "        start, goal, grid, math.inf, 0, [start], 1, 1\n",
    "    )\n",
    "    \n",
    "    # Measure time complexity: end time\n",
    "    end_time = time.time()\n",
    "    time_taken = end_time - start_time\n",
    "    \n",
    "    if path:\n",
    "        # Step 2: Calculate and print the cost breakdown for the optimal path\n",
    "        final_gn, path_cost_details = calculate_path_cost_breakdown(path, grid)\n",
    "        \n",
    "        print(\"Optimal Path:\", path)\n",
    "        print(\"Total Cost of Optimal Path (g(n)):\", final_gn)\n",
    "        print(\"\\nCost Breakdown for Optimal Path:\")\n",
    "        for step in path_cost_details:\n",
    "            print(f\"Step: {step['current']}, \"\n",
    "                  f\"Movement Cost: {step['movement_cost']}, \"\n",
    "                  f\"Adjustment: {step['adjustment']}, \"\n",
    "                  f\"Step Total Cost: {step['step_total_cost']}, \"\n",
    "                  f\"Cumulative Cost (g(n)): {step['cumulative_cost']}\")\n",
    "    else:\n",
    "        print(\"No path found.\")\n",
    "    \n",
    "    # Output additional details\n",
    "    print(\"Nodes Expanded:\", nodes_expanded)\n",
    "    print(\"Space Complexity (Max Depth of Recursion):\", max_depth)\n",
    "    print(f\"Time Complexity: {time_taken:.4f} seconds\")\n"
   ]
  },
  {
   "cell_type": "code",
   "execution_count": 33,
   "metadata": {
    "id": "u3MJeA6eF7sP"
   },
   "outputs": [],
   "source": [
    "#Invoke algorithm 2 (Should Print the solution, path, cost etc., (As mentioned in the problem))"
   ]
  },
  {
   "cell_type": "markdown",
   "metadata": {
    "id": "TOU3Rem6F7sQ"
   },
   "source": [
    "### 5.\tComparitive Analysis"
   ]
  },
  {
   "cell_type": "code",
   "execution_count": 34,
   "metadata": {
    "id": "HG6fWwiIF7sQ"
   },
   "outputs": [
    {
     "name": "stdout",
     "output_type": "stream",
     "text": [
      "Optimal Path: [(0, 0), (0, 1), (1, 1), (2, 1), (2, 2), (2, 3), (3, 3), (4, 3)]\n",
      "Total Cost of Optimal Path (g(n)): 18\n",
      "\n",
      "Cost Breakdown for Optimal Path:\n",
      "Step: (0, 1), Movement Cost: 1, Adjustment: 3, Step Total Cost: 4, Cumulative Cost (g(n)): 4\n",
      "Step: (1, 1), Movement Cost: 1, Adjustment: -2, Step Total Cost: -1, Cumulative Cost (g(n)): 3\n",
      "Step: (2, 1), Movement Cost: 1, Adjustment: 0, Step Total Cost: 1, Cumulative Cost (g(n)): 4\n",
      "Step: (2, 2), Movement Cost: 1, Adjustment: 6, Step Total Cost: 7, Cumulative Cost (g(n)): 11\n",
      "Step: (2, 3), Movement Cost: 1, Adjustment: 3, Step Total Cost: 4, Cumulative Cost (g(n)): 15\n",
      "Step: (3, 3), Movement Cost: 1, Adjustment: 3, Step Total Cost: 4, Cumulative Cost (g(n)): 19\n",
      "Step: (4, 3), Movement Cost: 1, Adjustment: -2, Step Total Cost: -1, Cumulative Cost (g(n)): 18\n",
      "Nodes Expanded: 9\n",
      "Space Complexity (Max Depth of Recursion): 7\n",
      "Time Complexity: 0.0001 seconds\n"
     ]
    }
   ],
   "source": [
    "#Code Block : Print the Time & Space complexity of algorithm 1\n",
    "\n",
    "find_and_evaluate_optimal_path()\n",
    "\n",
    "# The output of this function will display the time complexity (execution time)\n",
    "# and the space complexity (number of nodes expanded) for the RBFS algorithm."
   ]
  },
  {
   "cell_type": "markdown",
   "metadata": {
    "id": "y2nXwAlsF7sQ"
   },
   "source": [
    "### 6.\tProvide your comparitive analysis or findings in no more than 3 lines in below section"
   ]
  },
  {
   "cell_type": "markdown",
   "metadata": {
    "id": "si483-zoF7sQ"
   },
   "source": [
    "Comparison : _______________________________________________\n",
    "\n",
    "________________________________________________________\n",
    "\n",
    "_________________________________________________________"
   ]
  },
  {
   "cell_type": "code",
   "execution_count": null,
   "metadata": {},
   "outputs": [],
   "source": []
  }
 ],
 "metadata": {
  "colab": {
   "provenance": []
  },
  "kernelspec": {
   "display_name": "Python 3 (ipykernel)",
   "language": "python",
   "name": "python3"
  },
  "language_info": {
   "codemirror_mode": {
    "name": "ipython",
    "version": 3
   },
   "file_extension": ".py",
   "mimetype": "text/x-python",
   "name": "python",
   "nbconvert_exporter": "python",
   "pygments_lexer": "ipython3",
   "version": "3.12.2"
  }
 },
 "nbformat": 4,
 "nbformat_minor": 4
}
